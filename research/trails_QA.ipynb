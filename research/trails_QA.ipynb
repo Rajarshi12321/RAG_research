{
 "cells": [
  {
   "cell_type": "code",
   "execution_count": 1,
   "metadata": {},
   "outputs": [],
   "source": [
    "## Getting to Main directory\n",
    "import os\n",
    "os.chdir(\"../\")"
   ]
  },
  {
   "cell_type": "code",
   "execution_count": 2,
   "metadata": {},
   "outputs": [
    {
     "name": "stderr",
     "output_type": "stream",
     "text": [
      "e:\\projects\\Reseach Project - RAG\\Langchain_QA\\venv_RAG\\lib\\site-packages\\tqdm\\auto.py:21: TqdmWarning: IProgress not found. Please update jupyter and ipywidgets. See https://ipywidgets.readthedocs.io/en/stable/user_install.html\n",
      "  from .autonotebook import tqdm as notebook_tqdm\n"
     ]
    }
   ],
   "source": [
    "import streamlit as st\n",
    "from PyPDF2 import PdfReader\n",
    "from langchain.text_splitter import RecursiveCharacterTextSplitter\n",
    "import os\n",
    "from langchain_google_genai import GoogleGenerativeAIEmbeddings\n",
    "import google.generativeai as genai\n",
    "from langchain_community.vectorstores import FAISS\n",
    "from langchain_google_genai import ChatGoogleGenerativeAI\n",
    "from langchain.chains.question_answering import load_qa_chain\n",
    "from langchain.prompts import PromptTemplate\n",
    "from dotenv import load_dotenv\n",
    "\n"
   ]
  },
  {
   "cell_type": "code",
   "execution_count": 3,
   "metadata": {},
   "outputs": [],
   "source": [
    "load_dotenv()\n",
    "gemini_api_key=os.getenv(\"GOOGLE_API_KEY\")\n",
    "genai.configure(api_key=os.getenv(\"GOOGLE_API_KEY\"))\n",
    "\n"
   ]
  },
  {
   "cell_type": "markdown",
   "metadata": {},
   "source": [
    "### Data ingestion - Taking pdf documents and Cleaning and Transforming  Data into vector index"
   ]
  },
  {
   "cell_type": "code",
   "execution_count": 4,
   "metadata": {},
   "outputs": [],
   "source": [
    "from langchain_community.document_loaders import DirectoryLoader"
   ]
  },
  {
   "cell_type": "code",
   "execution_count": 75,
   "metadata": {},
   "outputs": [],
   "source": [
    "loader = DirectoryLoader('Data2', glob=\"**/*.pdf\")"
   ]
  },
  {
   "cell_type": "code",
   "execution_count": 61,
   "metadata": {},
   "outputs": [
    {
     "name": "stderr",
     "output_type": "stream",
     "text": [
      "incorrect startxref pointer(1)\n"
     ]
    }
   ],
   "source": [
    "from langchain_community.document_loaders import PyPDFLoader\n",
    "\n",
    "loader = PyPDFLoader(\"Data/[Data] Think Like a Data Scientist (2017).pdf\")\n",
    "pages = loader.load_and_split()"
   ]
  },
  {
   "cell_type": "code",
   "execution_count": 9,
   "metadata": {},
   "outputs": [],
   "source": [
    "# docs = loader.load()"
   ]
  },
  {
   "cell_type": "code",
   "execution_count": 10,
   "metadata": {},
   "outputs": [],
   "source": [
    "# pages"
   ]
  },
  {
   "cell_type": "code",
   "execution_count": 80,
   "metadata": {},
   "outputs": [
    {
     "data": {
      "text/plain": [
       "325"
      ]
     },
     "execution_count": 80,
     "metadata": {},
     "output_type": "execute_result"
    }
   ],
   "source": [
    "len(pages)"
   ]
  },
  {
   "cell_type": "code",
   "execution_count": 81,
   "metadata": {},
   "outputs": [],
   "source": [
    "text_splitter = RecursiveCharacterTextSplitter(chunk_size=1000, chunk_overlap=10)\n",
    "# text_chunks = text_splitter.split_documents(docs)\n",
    "text_chunks = text_splitter.split_documents(pages)"
   ]
  },
  {
   "cell_type": "code",
   "execution_count": null,
   "metadata": {},
   "outputs": [],
   "source": []
  },
  {
   "cell_type": "code",
   "execution_count": null,
   "metadata": {},
   "outputs": [],
   "source": [
    " "
   ]
  },
  {
   "cell_type": "code",
   "execution_count": 82,
   "metadata": {},
   "outputs": [
    {
     "data": {
      "text/plain": [
       "1042"
      ]
     },
     "execution_count": 82,
     "metadata": {},
     "output_type": "execute_result"
    }
   ],
   "source": [
    "len(text_chunks)"
   ]
  },
  {
   "cell_type": "code",
   "execution_count": 83,
   "metadata": {},
   "outputs": [],
   "source": [
    "# Clean up our Documents' content\n",
    "import re\n",
    "\n",
    "def clean_up_text(content: str) -> str:\n",
    "    \"\"\"\n",
    "    Remove unwanted characters and patterns in text input.\n",
    "\n",
    "    :param content: Text input.\n",
    "    \n",
    "    :return: Cleaned version of original text input.\n",
    "    \"\"\"\n",
    "\n",
    "    # Fix hyphenated words broken by newline\n",
    "    content = re.sub(r'(\\w+)-\\n(\\w+)', r'\\1\\2', content)\n",
    "\n",
    "    # Remove specific unwanted patterns and characters\n",
    "    unwanted_patterns = [\n",
    "        \"\\\\n\", \"  —\", \"——————————\", \"—————————\", \"—————\",\n",
    "        r'\\\\u[\\dA-Fa-f]{4}', r'\\uf075', r'\\uf0b7'\n",
    "    ]\n",
    "    for pattern in unwanted_patterns:\n",
    "        content = re.sub(pattern, \"\", content)\n",
    "\n",
    "    # Fix improperly spaced hyphenated words and normalize whitespace\n",
    "    content = re.sub(r'(\\w)\\s*-\\s*(\\w)', r'\\1-\\2', content)\n",
    "    content = re.sub(r'\\s+', ' ', content)\n",
    "\n",
    "    return content\n",
    "\n",
    "# Call function\n",
    "cleaned_docs = []\n",
    "for d in text_chunks: \n",
    "    cleaned_text = clean_up_text(d.page_content)\n",
    "    d.page_content = cleaned_text\n",
    "    cleaned_docs.append(d)"
   ]
  },
  {
   "cell_type": "code",
   "execution_count": null,
   "metadata": {},
   "outputs": [],
   "source": []
  },
  {
   "cell_type": "code",
   "execution_count": null,
   "metadata": {},
   "outputs": [],
   "source": []
  },
  {
   "cell_type": "code",
   "execution_count": 85,
   "metadata": {},
   "outputs": [
    {
     "data": {
      "text/plain": [
       "'Think Likea Data ScientistTACKLE THE DATA SCIENCE PROCESS STEP-BY-STEPBRIAN GODSEYMANNINGSHELTER ISLAND'"
      ]
     },
     "execution_count": 85,
     "metadata": {},
     "output_type": "execute_result"
    }
   ],
   "source": [
    "text_chunks[2].page_content"
   ]
  },
  {
   "cell_type": "code",
   "execution_count": 86,
   "metadata": {},
   "outputs": [
    {
     "data": {
      "text/plain": [
       "{'source': 'Data/[Data] Think Like a Data Scientist (2017).pdf', 'page': 0}"
      ]
     },
     "execution_count": 86,
     "metadata": {},
     "output_type": "execute_result"
    }
   ],
   "source": [
    "cleaned_docs[0].metadata"
   ]
  },
  {
   "cell_type": "markdown",
   "metadata": {},
   "source": [
    "### Configuring Gemini model and GeminiEmbedding"
   ]
  },
  {
   "cell_type": "code",
   "execution_count": 87,
   "metadata": {},
   "outputs": [],
   "source": [
    "from langchain_google_genai import GoogleGenerativeAIEmbeddings\n"
   ]
  },
  {
   "cell_type": "code",
   "execution_count": 88,
   "metadata": {},
   "outputs": [],
   "source": [
    "genai.configure(api_key=gemini_api_key)\n",
    "embeddings = GoogleGenerativeAIEmbeddings(model=\"models/embedding-001\")\n",
    "# Setting Tempreture to 0.3 for getting low risk results\n",
    "\n",
    "model = ChatGoogleGenerativeAI(model=\"gemini-1.0-pro-latest\",api_key=gemini_api_key,temperature=0.3)"
   ]
  },
  {
   "cell_type": "markdown",
   "metadata": {},
   "source": [
    "### Using FAISS as our vector database taking the index to save them locally"
   ]
  },
  {
   "cell_type": "code",
   "execution_count": 89,
   "metadata": {},
   "outputs": [],
   "source": [
    "vector_store = FAISS.from_documents(text_chunks, embedding=embeddings)\n",
    "vector_store.save_local(\"faiss_index\")"
   ]
  },
  {
   "cell_type": "code",
   "execution_count": null,
   "metadata": {},
   "outputs": [],
   "source": []
  },
  {
   "cell_type": "markdown",
   "metadata": {},
   "source": [
    "### Applying proper prompts to get best output"
   ]
  },
  {
   "cell_type": "code",
   "execution_count": 90,
   "metadata": {},
   "outputs": [
    {
     "data": {
      "text/plain": [
       "PromptTemplate(input_variables=['context', 'question'], template='\\nAnswer the question as detailed as possible from the provided context, make sure to provide all the details, if the answer is not in\\nprovided context just say, \"answer is not available in the context\", don\\'t provide the wrong answer\\n\\n\\nContext:\\n {context}?\\n\\nQuestion: \\n{question}\\n\\n\\nAnswer:\\n')"
      ]
     },
     "execution_count": 90,
     "metadata": {},
     "output_type": "execute_result"
    }
   ],
   "source": [
    "prompt_template = \"\"\"\n",
    "Answer the question as detailed as possible from the provided context, make sure to provide all the details, if the answer is not in\n",
    "provided context just say, \"answer is not available in the context\", don't provide the wrong answer\\n\\n\n",
    "Context:\\n {context}?\\n\n",
    "Question: \\n{question}\\n\n",
    "\n",
    "Answer:\n",
    "\"\"\"\n",
    "\n",
    "# model = ChatGoogleGenerativeAI(model=\"gemini-pro\",\n",
    "#                             temperature=0.3)\n",
    "\n",
    "prompt = PromptTemplate(template = prompt_template, input_variables = [\"context\", \"question\"])\n",
    "\n",
    "prompt\n",
    "# return chain"
   ]
  },
  {
   "cell_type": "code",
   "execution_count": 91,
   "metadata": {},
   "outputs": [
    {
     "data": {
      "text/plain": [
       "ChatPromptTemplate(input_variables=['context', 'question'], messages=[HumanMessagePromptTemplate(prompt=PromptTemplate(input_variables=['context', 'question'], template='\\nAnswer the question as detailed as possible from the provided context, make sure to provide all the details, if the answer is not in\\nprovided context just say, \"answer is not available in the context\", don\\'t provide the wrong answer\\n\\n\\nContext:\\n {context}?\\n\\nQuestion: \\n{question}\\n\\n\\nAnswer:\\n'))])"
      ]
     },
     "execution_count": 91,
     "metadata": {},
     "output_type": "execute_result"
    }
   ],
   "source": [
    "from langchain.prompts.chat import ChatPromptTemplate\n",
    "qa_prompt = ChatPromptTemplate.from_messages([(\"human\", prompt_template)])\n",
    "qa_prompt\n"
   ]
  },
  {
   "cell_type": "code",
   "execution_count": 92,
   "metadata": {},
   "outputs": [],
   "source": [
    "chain = load_qa_chain(llm=model, chain_type=\"stuff\", verbose=True, prompt=qa_prompt)\n"
   ]
  },
  {
   "cell_type": "code",
   "execution_count": 72,
   "metadata": {},
   "outputs": [],
   "source": [
    "user_question = \"Tell me about the phrase ` Priorities: knowledge first, technology second, opinions third` \""
   ]
  },
  {
   "cell_type": "code",
   "execution_count": 93,
   "metadata": {},
   "outputs": [],
   "source": [
    "new_db = FAISS.load_local(\"faiss_index\", embeddings,allow_dangerous_deserialization=True)\n",
    "docs = new_db.similarity_search(user_question)\n"
   ]
  },
  {
   "cell_type": "code",
   "execution_count": 94,
   "metadata": {},
   "outputs": [
    {
     "data": {
      "text/plain": [
       "Document(metadata={'source': 'Data/[Data] Think Like a Data Scientist (2017).pdf', 'page': 35}, page_content='12 CHAPTER 1Philosophies of data science1.6 Priorities: knowledge first, technology second, opinions thirdThis section title is an adage of mine. I use it to help settle disputes in the never-endingbattle between the various concerns of ever y data science project—for example, software versus statistics, changing business need versus project timeli ne, data quality versus accuracy of results. Each individual concern pushes and pulls on the others as aproject progresses, and we’re forced to make choices whenever two of them disagreeon a course of action. I’ve developed a simple framework to help with that. Knowledge, technology, and opinions are typically what you have at the beginningof any project; they are the three things that turn data into answers. Knowledge is whatyou know for a fact. Technology is the set of tools you have at your disposal. Opinions arethose little almost facts you want to consider true but shouldn’t quite yet. It’s important to establish a hierarchy for your')"
      ]
     },
     "execution_count": 94,
     "metadata": {},
     "output_type": "execute_result"
    }
   ],
   "source": [
    "docs[0]"
   ]
  },
  {
   "cell_type": "code",
   "execution_count": 95,
   "metadata": {},
   "outputs": [
    {
     "data": {
      "text/plain": [
       "ChatGoogleGenerativeAI(model='models/gemini-1.0-pro-latest', google_api_key=SecretStr('**********'), temperature=0.3, client=<google.ai.generativelanguage_v1beta.services.generative_service.client.GenerativeServiceClient object at 0x000002B6C3FCCAF0>, async_client=<google.ai.generativelanguage_v1beta.services.generative_service.async_client.GenerativeServiceAsyncClient object at 0x000002B6C3FDC220>, default_metadata=())"
      ]
     },
     "execution_count": 95,
     "metadata": {},
     "output_type": "execute_result"
    }
   ],
   "source": [
    "model"
   ]
  },
  {
   "cell_type": "code",
   "execution_count": 96,
   "metadata": {},
   "outputs": [
    {
     "name": "stdout",
     "output_type": "stream",
     "text": [
      "\n",
      "\n",
      "\u001b[1m> Entering new StuffDocumentsChain chain...\u001b[0m\n",
      "\n",
      "\n",
      "\u001b[1m> Entering new LLMChain chain...\u001b[0m\n",
      "Prompt after formatting:\n",
      "\u001b[32;1m\u001b[1;3mHuman: \n",
      "Answer the question as detailed as possible from the provided context, make sure to provide all the details, if the answer is not in\n",
      "provided context just say, \"answer is not available in the context\", don't provide the wrong answer\n",
      "\n",
      "\n",
      "Context:\n",
      " 12 CHAPTER 1Philosophies of data science1.6 Priorities: knowledge first, technology second, opinions thirdThis section title is an adage of mine. I use it to help settle disputes in the never-endingbattle between the various concerns of ever y data science project—for example, software versus statistics, changing business need versus project timeli ne, data quality versus accuracy of results. Each individual concern pushes and pulls on the others as aproject progresses, and we’re forced to make choices whenever two of them disagreeon a course of action. I’ve developed a simple framework to help with that. Knowledge, technology, and opinions are typically what you have at the beginningof any project; they are the three things that turn data into answers. Knowledge is whatyou know for a fact. Technology is the set of tools you have at your disposal. Opinions arethose little almost facts you want to consider true but shouldn’t quite yet. It’s important to establish a hierarchy for your\n",
      "\n",
      "for your thou ght processes so that less-important thingsdon’t steamroll more-important ones because they’re easier or more popular or becausesomeone has a hunch. In practice, the hierarchy looks like this:Knowledge first —Get to know your problem, your data, your approach, and yourgoal before you do anything else, and ke ep those at the forefront of your mind.Technology second —Software is a tool that serves you. It both enables and constrains you. It shouldn’t dictate your approach to the problem except in extenuating circumstances.Opinions third —Opinions, intuition, and wishful thinking are to be used onlyas guides toward theories that can be proven correct and not as the focus ofany project.I’m not advocating that knowledge should al ways take precedence over technology inevery decision—and likewise for technology over opinion—but if the hierarchy is tobe turned upside down, you should be doin g it deliberately and for a very good reason. For instance, suppose you have a large\n",
      "\n",
      "th at it might be much more expensive thanestimated. These are opinions—guesses—not knowledge, and they shouldn’t play aprimary role in data analysis and produc t development. Goals are not certain to beachieved but are required for any project, so it’s imperative not to take the goal andits attainability for granted. You should always consider current knowledge first andseek to expand that knowledge incrementa lly until you either achieve the goal orare forced to abandon it. I’ve mentioned this uncertainty of attainability as a particularly stark difference between the philosophies of software development and datascience. In data science, a goal is much less likely to be achievable in exactly itsoriginal form. In a room fu ll of software developers or inexperienced data scientists, be particularly wary of anyone pr esupposing without evidence that a goal is100% achievable. Remember: knowledge first, then technolo gy, and then opinion. It’s not a perfectframework, but I’ve found it\n",
      "\n",
      "viicontentspreface xvacknowledgments xviabout this book xviiabout the cover illustration xxiPART 1P REPARING AND GATHERING DATA AND KNOWLEDGE ................................................11 Philosophies of data science 31.1 Data science and this book 51.2 Awareness is valuable 71.3 Developer vs. data scientist 81.4 Do I need to be a software developer? 101.5 Do I need to know statistics? 111.6 Priorities: knowledge first, technology second, opinions third 121.7 Best practices 13Documentation 14■Code repositories and versioning 14Code organization 15■Ask questions 16■Stay close to the data 171.8 Reading this book: how I discuss concepts 17?\n",
      "\n",
      "Question: \n",
      "Tell me about the phrase ` Priorities: knowledge first, technology second, opinions third` \n",
      "\n",
      "\n",
      "Answer:\n",
      "\u001b[0m\n",
      "\n",
      "\u001b[1m> Finished chain.\u001b[0m\n",
      "\n",
      "\u001b[1m> Finished chain.\u001b[0m\n"
     ]
    }
   ],
   "source": [
    "response = chain(\n",
    "        {\"input_documents\":docs, \"question\": user_question}\n",
    "        , return_only_outputs=True)"
   ]
  },
  {
   "cell_type": "code",
   "execution_count": 97,
   "metadata": {},
   "outputs": [
    {
     "name": "stdout",
     "output_type": "stream",
     "text": [
      "This phrase is an adage that helps settle disputes in the never-ending battle between the various concerns of every data science project. It establishes a hierarchy for thought processes so that less-important things don't steamroll more-important ones. In practice, the hierarchy looks like this:\n",
      "\n",
      "1. Knowledge first: Get to know your problem, your data, your approach, and your goal before you do anything else, and keep those at the forefront of your mind.\n",
      "2. Technology second: Software is a tool that serves you. It both enables and constrains you. It shouldn't dictate your approach to the problem except in extenuating circumstances.\n",
      "3. Opinions third: Opinions, intuition, and wishful thinking are to be used only as guides toward theories that can be proven correct and not as the focus of any project.\n"
     ]
    }
   ],
   "source": [
    "print(response[\"output_text\"])"
   ]
  },
  {
   "cell_type": "code",
   "execution_count": null,
   "metadata": {},
   "outputs": [],
   "source": []
  },
  {
   "cell_type": "code",
   "execution_count": null,
   "metadata": {},
   "outputs": [],
   "source": []
  },
  {
   "cell_type": "code",
   "execution_count": 42,
   "metadata": {},
   "outputs": [],
   "source": [
    "eval_questions = [\n",
    "    \"How many baby birds did the mother bird have?\",\n",
    "    \"What happened to the mother bird during the storm?\",\n",
    "    \"Where did the baby birds end up after the storm?\",\n",
    "    \"What happened to one of the baby birds near a cave?\",\n",
    "    \"Where did the other baby bird land?\",\n",
    "    \"Who came to the forest one day?\",\n",
    "    \"What did the king see under a tree near a cave?\",\n",
    "    \"What did the king hear from the big, brown bird?\",\n",
    "    \"Where did the king go after leaving the cave?\",\n",
    "    \"Who welcomed the king at the ashram?\",\n",
    "    \"What did the rishi say about the two birds?\",\n",
    "    \"What did the king tell the rishi about the birds?\",\n",
    "    \"What did the rishi say to the king about the birds?\",\n",
    "    \"What did the rishi compare the birds' behavior to?\",\n",
    "    \"Which moral best summarizes the story?\"\n",
    "]\n",
    "\n",
    "eval_answers = [\n",
    "    \"The mother bird had two baby birds.\",\n",
    "    \"The mother bird was killed by a heavy branch during the storm.\",\n",
    "    \"The baby birds ended up separated from each other after the storm.\",\n",
    "    \"One of the baby birds came down near a cave where a gang of robbers lived.\",\n",
    "    \"The other baby bird landed outside a rishi’s ashram a little distance away.\",\n",
    "    \"The king of the country came to the forest one day.\",\n",
    "    \"The king saw a big, brown bird under a tree near a cave.\",\n",
    "    \"The king heard the big, brown bird urging someone to take his jewels and horse quickly.\",\n",
    "    \"After leaving the cave, the king came to a clearing that looked like an ashram.\",\n",
    "    \"The king was welcomed at the ashram by a big, brown bird.\",\n",
    "    \"The rishi said that one bird had made friends with robbers while the other welcomed people to the ashram.\",\n",
    "    \"The king told the rishi the story of the two birds and their different behaviors.\",\n",
    "    \"The rishi said that one is known by the company one keeps.\",\n",
    "    \"The rishi compared the birds' behavior to the influence of companionship.\",\n",
    "    \"The moral 'One is known by the company one keeps' best summarizes the story.\"\n",
    "]\n"
   ]
  },
  {
   "cell_type": "code",
   "execution_count": 44,
   "metadata": {},
   "outputs": [],
   "source": [
    "examples = [\n",
    "    {\"query\": q, \"ground_truth\": [eval_answers[i]]}\n",
    "    for i, q in enumerate(eval_questions)\n",
    "]"
   ]
  },
  {
   "cell_type": "code",
   "execution_count": 45,
   "metadata": {},
   "outputs": [
    {
     "data": {
      "text/plain": [
       "[{'query': 'How many baby birds did the mother bird have?',\n",
       "  'ground_truth': ['The mother bird had two baby birds.']},\n",
       " {'query': 'What happened to the mother bird during the storm?',\n",
       "  'ground_truth': ['The mother bird was killed by a heavy branch during the storm.']},\n",
       " {'query': 'Where did the baby birds end up after the storm?',\n",
       "  'ground_truth': ['The baby birds ended up separated from each other after the storm.']},\n",
       " {'query': 'What happened to one of the baby birds near a cave?',\n",
       "  'ground_truth': ['One of the baby birds came down near a cave where a gang of robbers lived.']},\n",
       " {'query': 'Where did the other baby bird land?',\n",
       "  'ground_truth': ['The other baby bird landed outside a rishi’s ashram a little distance away.']},\n",
       " {'query': 'Who came to the forest one day?',\n",
       "  'ground_truth': ['The king of the country came to the forest one day.']},\n",
       " {'query': 'What did the king see under a tree near a cave?',\n",
       "  'ground_truth': ['The king saw a big, brown bird under a tree near a cave.']},\n",
       " {'query': 'What did the king hear from the big, brown bird?',\n",
       "  'ground_truth': ['The king heard the big, brown bird urging someone to take his jewels and horse quickly.']},\n",
       " {'query': 'Where did the king go after leaving the cave?',\n",
       "  'ground_truth': ['After leaving the cave, the king came to a clearing that looked like an ashram.']},\n",
       " {'query': 'Who welcomed the king at the ashram?',\n",
       "  'ground_truth': ['The king was welcomed at the ashram by a big, brown bird.']},\n",
       " {'query': 'What did the rishi say about the two birds?',\n",
       "  'ground_truth': ['The rishi said that one bird had made friends with robbers while the other welcomed people to the ashram.']},\n",
       " {'query': 'What did the king tell the rishi about the birds?',\n",
       "  'ground_truth': ['The king told the rishi the story of the two birds and their different behaviors.']},\n",
       " {'query': 'What did the rishi say to the king about the birds?',\n",
       "  'ground_truth': ['The rishi said that one is known by the company one keeps.']},\n",
       " {'query': \"What did the rishi compare the birds' behavior to?\",\n",
       "  'ground_truth': [\"The rishi compared the birds' behavior to the influence of companionship.\"]},\n",
       " {'query': 'Which moral best summarizes the story?',\n",
       "  'ground_truth': [\"The moral 'One is known by the company one keeps' best summarizes the story.\"]}]"
      ]
     },
     "execution_count": 45,
     "metadata": {},
     "output_type": "execute_result"
    }
   ],
   "source": [
    "examples"
   ]
  },
  {
   "cell_type": "code",
   "execution_count": 46,
   "metadata": {},
   "outputs": [],
   "source": [
    "user_question = eval_questions[5]"
   ]
  },
  {
   "cell_type": "code",
   "execution_count": 47,
   "metadata": {},
   "outputs": [
    {
     "data": {
      "text/plain": [
       "'Who came to the forest one day?'"
      ]
     },
     "execution_count": 47,
     "metadata": {},
     "output_type": "execute_result"
    }
   ],
   "source": [
    "user_question"
   ]
  },
  {
   "cell_type": "code",
   "execution_count": 48,
   "metadata": {},
   "outputs": [
    {
     "data": {
      "text/plain": [
       "[Document(page_content='would the crocodile tell his wife?Rationalised 2023-24', metadata={'source': 'Data\\\\fepw105.pdf'}),\n",
       " Document(page_content='Rationalised 2023-24', metadata={'source': 'Data\\\\fepw106.pdf'}),\n",
       " Document(page_content='Are you interested in music? Do you like classical music? Name a few distinguished Indian musicians.Rationalised 2023-24', metadata={'source': 'Data\\\\fepw104.pdf'}),\n",
       " Document(page_content='Days passed and the baby birds became big birds. One day, the king of the country came to the forest to hunt. He saw a deer and rode after it. It ran deep into the forest followed by the king. Soon the king lost his way and didn’t know where he was.He rode on for a long time till he came to the other side of the forest. Very tired by now, he got off his horse and sat down under a tree that stood near a cave. Suddenly he heard a voice cry out, “Quick! Hurry up! There’s someone under the tree. Come and take his jewels and his horse. Hurry, or else he’ll slip away.” The king was amazed. He looked up and saw a big, brown bird on the tree under which he was sitting. He also heard faint noises issuing from the cave. He quickly got on to his horse and rode away as fast as he could.The king was amazed to hear a similar voice again. • He came to know the birds’ true story. • He met the rishi who explained the behaviour of each bird.', metadata={'source': 'Data\\\\fepw101.pdf'})]"
      ]
     },
     "execution_count": 48,
     "metadata": {},
     "output_type": "execute_result"
    }
   ],
   "source": [
    "new_db = FAISS.load_local(\"faiss_index\",embeddings,allow_dangerous_deserialization=True)\n",
    "docs = new_db.similarity_search(user_question)\n",
    "\n",
    "docs"
   ]
  },
  {
   "cell_type": "code",
   "execution_count": 49,
   "metadata": {},
   "outputs": [
    {
     "name": "stdout",
     "output_type": "stream",
     "text": [
      "\n",
      "\n",
      "\u001b[1m> Entering new StuffDocumentsChain chain...\u001b[0m\n",
      "\n",
      "\n",
      "\u001b[1m> Entering new LLMChain chain...\u001b[0m\n",
      "Prompt after formatting:\n",
      "\u001b[32;1m\u001b[1;3mHuman: \n",
      "Answer the question as detailed as possible from the provided context, make sure to provide all the details, if the answer is not in\n",
      "provided context just say, \"answer is not available in the context\", don't provide the wrong answer\n",
      "\n",
      "\n",
      "Context:\n",
      " would the crocodile tell his wife?Rationalised 2023-24\n",
      "\n",
      "Rationalised 2023-24\n",
      "\n",
      "Are you interested in music? Do you like classical music? Name a few distinguished Indian musicians.Rationalised 2023-24\n",
      "\n",
      "Days passed and the baby birds became big birds. One day, the king of the country came to the forest to hunt. He saw a deer and rode after it. It ran deep into the forest followed by the king. Soon the king lost his way and didn’t know where he was.He rode on for a long time till he came to the other side of the forest. Very tired by now, he got off his horse and sat down under a tree that stood near a cave. Suddenly he heard a voice cry out, “Quick! Hurry up! There’s someone under the tree. Come and take his jewels and his horse. Hurry, or else he’ll slip away.” The king was amazed. He looked up and saw a big, brown bird on the tree under which he was sitting. He also heard faint noises issuing from the cave. He quickly got on to his horse and rode away as fast as he could.The king was amazed to hear a similar voice again. • He came to know the birds’ true story. • He met the rishi who explained the behaviour of each bird.?\n",
      "\n",
      "Question: \n",
      "Who came to the forest one day?\n",
      "\n",
      "\n",
      "Answer:\n",
      "\u001b[0m\n",
      "\n",
      "\u001b[1m> Finished chain.\u001b[0m\n",
      "\n",
      "\u001b[1m> Finished chain.\u001b[0m\n"
     ]
    }
   ],
   "source": [
    "response = chain(\n",
    "        {\"input_documents\":docs, \"question\": user_question})"
   ]
  },
  {
   "cell_type": "code",
   "execution_count": 50,
   "metadata": {},
   "outputs": [
    {
     "data": {
      "text/plain": [
       "'would the crocodile tell his wife?Rationalised 2023-24'"
      ]
     },
     "execution_count": 50,
     "metadata": {},
     "output_type": "execute_result"
    }
   ],
   "source": [
    "response[\"input_documents\"][0].page_content"
   ]
  },
  {
   "cell_type": "code",
   "execution_count": 51,
   "metadata": {},
   "outputs": [
    {
     "name": "stdout",
     "output_type": "stream",
     "text": [
      "## Who Came to the Forest? \n",
      "\n",
      "**The king of the country** came to the forest one day to hunt. \n",
      "\n"
     ]
    }
   ],
   "source": [
    "print(response[\"output_text\"])"
   ]
  },
  {
   "cell_type": "code",
   "execution_count": 52,
   "metadata": {},
   "outputs": [],
   "source": [
    "\n",
    "import nest_asyncio\n",
    "\n",
    "nest_asyncio.apply()\n"
   ]
  },
  {
   "cell_type": "code",
   "execution_count": 53,
   "metadata": {},
   "outputs": [
    {
     "data": {
      "text/plain": [
       "{'input_documents': [Document(page_content='would the crocodile tell his wife?Rationalised 2023-24', metadata={'source': 'Data\\\\fepw105.pdf'}),\n",
       "  Document(page_content='Rationalised 2023-24', metadata={'source': 'Data\\\\fepw106.pdf'}),\n",
       "  Document(page_content='Are you interested in music? Do you like classical music? Name a few distinguished Indian musicians.Rationalised 2023-24', metadata={'source': 'Data\\\\fepw104.pdf'}),\n",
       "  Document(page_content='Days passed and the baby birds became big birds. One day, the king of the country came to the forest to hunt. He saw a deer and rode after it. It ran deep into the forest followed by the king. Soon the king lost his way and didn’t know where he was.He rode on for a long time till he came to the other side of the forest. Very tired by now, he got off his horse and sat down under a tree that stood near a cave. Suddenly he heard a voice cry out, “Quick! Hurry up! There’s someone under the tree. Come and take his jewels and his horse. Hurry, or else he’ll slip away.” The king was amazed. He looked up and saw a big, brown bird on the tree under which he was sitting. He also heard faint noises issuing from the cave. He quickly got on to his horse and rode away as fast as he could.The king was amazed to hear a similar voice again. • He came to know the birds’ true story. • He met the rishi who explained the behaviour of each bird.', metadata={'source': 'Data\\\\fepw101.pdf'})],\n",
       " 'question': 'Who came to the forest one day?',\n",
       " 'output_text': '## Who Came to the Forest? \\n\\n**The king of the country** came to the forest one day to hunt. \\n'}"
      ]
     },
     "execution_count": 53,
     "metadata": {},
     "output_type": "execute_result"
    }
   ],
   "source": [
    "response"
   ]
  },
  {
   "cell_type": "markdown",
   "metadata": {},
   "source": [
    "## RAG model Evaluation using RAGAS; Currently RAGAS is not supporting Gemini, but I do hope it would be available in future. Regardless of that, Integrating Open AI with RAGAS won't be a problem if we already have access to it's api key"
   ]
  },
  {
   "cell_type": "code",
   "execution_count": 55,
   "metadata": {},
   "outputs": [],
   "source": [
    "from ragas.langchain.evalchain  import RagasEvaluatorChain\n",
    "from ragas.metrics import (\n",
    "    faithfulness,\n",
    "    answer_relevancy,\n",
    "    context_precision,\n",
    "    context_recall,\n",
    ")\n",
    "\n",
    "# create evaluation chains\n",
    "# faithfulness_chain = RagasEvaluatorChain(metric=faithfulness)\n",
    "# answer_rel_chain = RagasEvaluatorChain(metric=answer_relevancy)\n",
    "# context_rel_chain = RagasEvaluatorChain(metric=context_precision)\n",
    "# context_recall_chain = RagasEvaluatorChain(metric=context_recall)"
   ]
  },
  {
   "cell_type": "code",
   "execution_count": 56,
   "metadata": {},
   "outputs": [],
   "source": [
    "import pandas as pd"
   ]
  },
  {
   "cell_type": "code",
   "execution_count": 57,
   "metadata": {},
   "outputs": [
    {
     "name": "stdout",
     "output_type": "stream",
     "text": [
      "                                             question  \\\n",
      "0       How many baby birds did the mother bird have?   \n",
      "1   What happened to the mother bird during the st...   \n",
      "2    Where did the baby birds end up after the storm?   \n",
      "3   What happened to one of the baby birds near a ...   \n",
      "4                 Where did the other baby bird land?   \n",
      "5                     Who came to the forest one day?   \n",
      "6     What did the king see under a tree near a cave?   \n",
      "7    What did the king hear from the big, brown bird?   \n",
      "8       Where did the king go after leaving the cave?   \n",
      "9                Who welcomed the king at the ashram?   \n",
      "10        What did the rishi say about the two birds?   \n",
      "11  What did the king tell the rishi about the birds?   \n",
      "12  What did the rishi say to the king about the b...   \n",
      "13  What did the rishi compare the birds' behavior...   \n",
      "14             Which moral best summarizes the story?   \n",
      "\n",
      "                                         ground_truth  \n",
      "0                 The mother bird had two baby birds.  \n",
      "1   The mother bird was killed by a heavy branch d...  \n",
      "2   The baby birds ended up separated from each ot...  \n",
      "3   One of the baby birds came down near a cave wh...  \n",
      "4   The other baby bird landed outside a rishi’s a...  \n",
      "5   The king of the country came to the forest one...  \n",
      "6   The king saw a big, brown bird under a tree ne...  \n",
      "7   The king heard the big, brown bird urging some...  \n",
      "8   After leaving the cave, the king came to a cle...  \n",
      "9   The king was welcomed at the ashram by a big, ...  \n",
      "10  The rishi said that one bird had made friends ...  \n",
      "11  The king told the rishi the story of the two b...  \n",
      "12  The rishi said that one is known by the compan...  \n",
      "13  The rishi compared the birds' behavior to the ...  \n",
      "14  The moral 'One is known by the company one kee...  \n"
     ]
    }
   ],
   "source": [
    "# Create a DataFrame\n",
    "test_df = pd.DataFrame({\n",
    "    'question': eval_questions,\n",
    "    'ground_truth': eval_answers\n",
    "})\n",
    "\n",
    "# Print the DataFrame\n",
    "print(test_df)"
   ]
  },
  {
   "cell_type": "code",
   "execution_count": 58,
   "metadata": {},
   "outputs": [],
   "source": [
    "test_questions = test_df[\"question\"].values.tolist()\n",
    "test_groundtruths = test_df[\"ground_truth\"].values.tolist()"
   ]
  },
  {
   "cell_type": "code",
   "execution_count": 59,
   "metadata": {},
   "outputs": [],
   "source": [
    "test_questions = test_questions[:2]\n",
    "test_groundtruths = test_groundtruths[:2]"
   ]
  },
  {
   "cell_type": "code",
   "execution_count": 60,
   "metadata": {},
   "outputs": [
    {
     "data": {
      "text/plain": [
       "['How many baby birds did the mother bird have?',\n",
       " 'What happened to the mother bird during the storm?']"
      ]
     },
     "execution_count": 60,
     "metadata": {},
     "output_type": "execute_result"
    }
   ],
   "source": [
    "test_questions"
   ]
  },
  {
   "cell_type": "code",
   "execution_count": 61,
   "metadata": {},
   "outputs": [
    {
     "name": "stdout",
     "output_type": "stream",
     "text": [
      "\n",
      "\n",
      "\u001b[1m> Entering new StuffDocumentsChain chain...\u001b[0m\n",
      "\n",
      "\n",
      "\u001b[1m> Entering new LLMChain chain...\u001b[0m\n",
      "Prompt after formatting:\n",
      "\u001b[32;1m\u001b[1;3mHuman: \n",
      "Answer the question as detailed as possible from the provided context, make sure to provide all the details, if the answer is not in\n",
      "provided context just say, \"answer is not available in the context\", don't provide the wrong answer\n",
      "\n",
      "\n",
      "Context:\n",
      " would the crocodile tell his wife?Rationalised 2023-24\n",
      "\n",
      "Rationalised 2023-24\n",
      "\n",
      "Are you interested in music? Do you like classical music? Name a few distinguished Indian musicians.Rationalised 2023-24\n",
      "\n",
      "Days passed and the baby birds became big birds. One day, the king of the country came to the forest to hunt. He saw a deer and rode after it. It ran deep into the forest followed by the king. Soon the king lost his way and didn’t know where he was.He rode on for a long time till he came to the other side of the forest. Very tired by now, he got off his horse and sat down under a tree that stood near a cave. Suddenly he heard a voice cry out, “Quick! Hurry up! There’s someone under the tree. Come and take his jewels and his horse. Hurry, or else he’ll slip away.” The king was amazed. He looked up and saw a big, brown bird on the tree under which he was sitting. He also heard faint noises issuing from the cave. He quickly got on to his horse and rode away as fast as he could.The king was amazed to hear a similar voice again. • He came to know the birds’ true story. • He met the rishi who explained the behaviour of each bird.?\n",
      "\n",
      "Question: \n",
      "How many baby birds did the mother bird have?\n",
      "\n",
      "\n",
      "Answer:\n",
      "\u001b[0m\n",
      "\n",
      "\u001b[1m> Finished chain.\u001b[0m\n",
      "\n",
      "\u001b[1m> Finished chain.\u001b[0m\n",
      "\n",
      "\n",
      "\u001b[1m> Entering new StuffDocumentsChain chain...\u001b[0m\n",
      "\n",
      "\n",
      "\u001b[1m> Entering new LLMChain chain...\u001b[0m\n",
      "Prompt after formatting:\n",
      "\u001b[32;1m\u001b[1;3mHuman: \n",
      "Answer the question as detailed as possible from the provided context, make sure to provide all the details, if the answer is not in\n",
      "provided context just say, \"answer is not available in the context\", don't provide the wrong answer\n",
      "\n",
      "\n",
      "Context:\n",
      " would the crocodile tell his wife?Rationalised 2023-24\n",
      "\n",
      "Rationalised 2023-24\n",
      "\n",
      "Are you interested in music? Do you like classical music? Name a few distinguished Indian musicians.Rationalised 2023-24\n",
      "\n",
      "Days passed and the baby birds became big birds. One day, the king of the country came to the forest to hunt. He saw a deer and rode after it. It ran deep into the forest followed by the king. Soon the king lost his way and didn’t know where he was.He rode on for a long time till he came to the other side of the forest. Very tired by now, he got off his horse and sat down under a tree that stood near a cave. Suddenly he heard a voice cry out, “Quick! Hurry up! There’s someone under the tree. Come and take his jewels and his horse. Hurry, or else he’ll slip away.” The king was amazed. He looked up and saw a big, brown bird on the tree under which he was sitting. He also heard faint noises issuing from the cave. He quickly got on to his horse and rode away as fast as he could.The king was amazed to hear a similar voice again. • He came to know the birds’ true story. • He met the rishi who explained the behaviour of each bird.?\n",
      "\n",
      "Question: \n",
      "What happened to the mother bird during the storm?\n",
      "\n",
      "\n",
      "Answer:\n",
      "\u001b[0m\n",
      "\n",
      "\u001b[1m> Finished chain.\u001b[0m\n",
      "\n",
      "\u001b[1m> Finished chain.\u001b[0m\n"
     ]
    }
   ],
   "source": [
    "answers = []\n",
    "contexts = []\n",
    "\n",
    "for question in test_questions:\n",
    "      new_db = FAISS.load_local(\"faiss_index\",embeddings,allow_dangerous_deserialization=True)\n",
    "      docs = new_db.similarity_search(user_question)\n",
    "\n",
    "      response = chain(\n",
    "            {\"input_documents\":docs, \"question\": question})\n",
    "      # response = retrieval_augmented_qa_chain.invoke({\"question\" : question})\n",
    "      answers.append(response[\"output_text\"])\n",
    "      contexts.append([context.page_content for context in response[\"input_documents\"]])"
   ]
  },
  {
   "cell_type": "code",
   "execution_count": 62,
   "metadata": {},
   "outputs": [
    {
     "data": {
      "text/plain": [
       "['The mother bird had two baby birds.',\n",
       " 'The mother bird was killed by a heavy branch during the storm.']"
      ]
     },
     "execution_count": 62,
     "metadata": {},
     "output_type": "execute_result"
    }
   ],
   "source": [
    "test_groundtruths"
   ]
  },
  {
   "cell_type": "code",
   "execution_count": 67,
   "metadata": {},
   "outputs": [],
   "source": [
    "from ragas import evaluate\n",
    "from ragas.metrics import (\n",
    "    faithfulness,\n",
    "    answer_relevancy,\n",
    "    answer_correctness,\n",
    "    context_recall,\n",
    "    context_precision,\n",
    ")\n",
    "\n",
    "metrics = [\n",
    "    faithfulness,\n",
    "    answer_relevancy,\n",
    "    context_recall,\n",
    "    context_precision,\n",
    "    answer_correctness,\n",
    "]"
   ]
  },
  {
   "cell_type": "code",
   "execution_count": 80,
   "metadata": {},
   "outputs": [],
   "source": [
    "from datasets import Dataset\n",
    "\n",
    "response_dataset = Dataset.from_dict({\n",
    "    \"question\" : test_questions,\n",
    "    \"answer\" : answers,\n",
    "    \"contexts\" : contexts,\n",
    "    \"ground_truths\" : test_groundtruths\n",
    "})"
   ]
  },
  {
   "cell_type": "code",
   "execution_count": 88,
   "metadata": {},
   "outputs": [],
   "source": [
    "from datasets import Dataset, Features, Sequence, Value\n",
    "\n",
    "# Convert each ground truth string into a list containing that string\n",
    "test_groundtruths_list = [[gt] for gt in test_groundtruths]\n",
    "\n",
    "# Define the features with the correct type for \"ground_truths\"\n",
    "features = Features({\n",
    "    \"question\": Value(\"string\"),\n",
    "    \"answer\": Value(\"string\"),\n",
    "    \"contexts\": Value(\"string\"),\n",
    "    \"ground_truths\": Sequence(Sequence(Value(\"string\")))\n",
    "})\n",
    "\n",
    "# Create the dataset\n",
    "response_dataset = Dataset.from_dict({\n",
    "    \"question\": test_questions,\n",
    "    \"answer\": answers,\n",
    "    \"contexts\": contexts,\n",
    "    \"ground_truths\": test_groundtruths_list\n",
    "})\n",
    "\n",
    "# Now, you should be able to use the dataset without encountering the ValueError\n"
   ]
  },
  {
   "cell_type": "code",
   "execution_count": 89,
   "metadata": {},
   "outputs": [
    {
     "data": {
      "text/plain": [
       "{'question': 'How many baby birds did the mother bird have?',\n",
       " 'answer': '## Analyzing the Context for Baby Bird Count:\\n\\nThe provided text describes a story involving a king, a deer, and birds but **does not specify the number of baby birds the mother bird had**. Therefore, based on the context provided, the answer is: \\n\\n**Answer is not available in the context** \\n',\n",
       " 'contexts': ['would the crocodile tell his wife?Rationalised 2023-24',\n",
       "  'Rationalised 2023-24',\n",
       "  'Are you interested in music? Do you like classical music? Name a few distinguished Indian musicians.Rationalised 2023-24',\n",
       "  'Days passed and the baby birds became big birds. One day, the king of the country came to the forest to hunt. He saw a deer and rode after it. It ran deep into the forest followed by the king. Soon the king lost his way and didn’t know where he was.He rode on for a long time till he came to the other side of the forest. Very tired by now, he got off his horse and sat down under a tree that stood near a cave. Suddenly he heard a voice cry out, “Quick! Hurry up! There’s someone under the tree. Come and take his jewels and his horse. Hurry, or else he’ll slip away.” The king was amazed. He looked up and saw a big, brown bird on the tree under which he was sitting. He also heard faint noises issuing from the cave. He quickly got on to his horse and rode away as fast as he could.The king was amazed to hear a similar voice again. • He came to know the birds’ true story. • He met the rishi who explained the behaviour of each bird.'],\n",
       " 'ground_truths': ['The mother bird had two baby birds.']}"
      ]
     },
     "execution_count": 89,
     "metadata": {},
     "output_type": "execute_result"
    }
   ],
   "source": [
    "response_dataset[0]"
   ]
  },
  {
   "cell_type": "code",
   "execution_count": 90,
   "metadata": {},
   "outputs": [
    {
     "data": {
      "text/plain": [
       "{'question': 'How many baby birds did the mother bird have?',\n",
       " 'answer': '## Analyzing the Context for Baby Bird Count:\\n\\nThe provided text describes a story involving a king, a deer, and birds but **does not specify the number of baby birds the mother bird had**. Therefore, based on the context provided, the answer is: \\n\\n**Answer is not available in the context** \\n',\n",
       " 'contexts': ['would the crocodile tell his wife?Rationalised 2023-24',\n",
       "  'Rationalised 2023-24',\n",
       "  'Are you interested in music? Do you like classical music? Name a few distinguished Indian musicians.Rationalised 2023-24',\n",
       "  'Days passed and the baby birds became big birds. One day, the king of the country came to the forest to hunt. He saw a deer and rode after it. It ran deep into the forest followed by the king. Soon the king lost his way and didn’t know where he was.He rode on for a long time till he came to the other side of the forest. Very tired by now, he got off his horse and sat down under a tree that stood near a cave. Suddenly he heard a voice cry out, “Quick! Hurry up! There’s someone under the tree. Come and take his jewels and his horse. Hurry, or else he’ll slip away.” The king was amazed. He looked up and saw a big, brown bird on the tree under which he was sitting. He also heard faint noises issuing from the cave. He quickly got on to his horse and rode away as fast as he could.The king was amazed to hear a similar voice again. • He came to know the birds’ true story. • He met the rishi who explained the behaviour of each bird.'],\n",
       " 'ground_truths': ['The mother bird had two baby birds.']}"
      ]
     },
     "execution_count": 90,
     "metadata": {},
     "output_type": "execute_result"
    }
   ],
   "source": [
    "response_dataset[0]"
   ]
  },
  {
   "cell_type": "code",
   "execution_count": null,
   "metadata": {},
   "outputs": [],
   "source": [
    "\n",
    "advanced_retrieval_results = evaluate(response_dataset, metrics)"
   ]
  }
 ],
 "metadata": {
  "kernelspec": {
   "display_name": "Python 3",
   "language": "python",
   "name": "python3"
  },
  "language_info": {
   "codemirror_mode": {
    "name": "ipython",
    "version": 3
   },
   "file_extension": ".py",
   "mimetype": "text/x-python",
   "name": "python",
   "nbconvert_exporter": "python",
   "pygments_lexer": "ipython3",
   "version": "3.9.19"
  }
 },
 "nbformat": 4,
 "nbformat_minor": 2
}
