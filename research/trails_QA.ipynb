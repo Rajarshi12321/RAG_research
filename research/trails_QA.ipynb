{
 "cells": [
  {
   "cell_type": "code",
   "execution_count": 1,
   "metadata": {},
   "outputs": [],
   "source": [
    "## Getting to Main directory\n",
    "import os\n",
    "os.chdir(\"../\")"
   ]
  },
  {
   "cell_type": "code",
   "execution_count": 2,
   "metadata": {},
   "outputs": [
    {
     "name": "stderr",
     "output_type": "stream",
     "text": [
      "e:\\projects\\Reseach Project - RAG\\Langchain_QA\\venv_RAG\\lib\\site-packages\\tqdm\\auto.py:21: TqdmWarning: IProgress not found. Please update jupyter and ipywidgets. See https://ipywidgets.readthedocs.io/en/stable/user_install.html\n",
      "  from .autonotebook import tqdm as notebook_tqdm\n"
     ]
    }
   ],
   "source": [
    "import streamlit as st\n",
    "from PyPDF2 import PdfReader\n",
    "from langchain.text_splitter import RecursiveCharacterTextSplitter\n",
    "import os\n",
    "from langchain_google_genai import GoogleGenerativeAIEmbeddings\n",
    "import google.generativeai as genai\n",
    "from langchain_community.vectorstores import FAISS\n",
    "from langchain_google_genai import ChatGoogleGenerativeAI\n",
    "from langchain.chains.question_answering import load_qa_chain\n",
    "from langchain.prompts import PromptTemplate\n",
    "from dotenv import load_dotenv\n",
    "\n"
   ]
  },
  {
   "cell_type": "code",
   "execution_count": 3,
   "metadata": {},
   "outputs": [],
   "source": [
    "load_dotenv()\n",
    "gemini_api_key=os.getenv(\"GOOGLE_API_KEY\")\n",
    "genai.configure(api_key=os.getenv(\"GOOGLE_API_KEY\"))\n",
    "\n"
   ]
  },
  {
   "cell_type": "markdown",
   "metadata": {},
   "source": [
    "### Data ingestion - Taking pdf documents and Cleaning and Transforming  Data into vector index"
   ]
  },
  {
   "cell_type": "code",
   "execution_count": 4,
   "metadata": {},
   "outputs": [],
   "source": [
    "from langchain_community.document_loaders import DirectoryLoader"
   ]
  },
  {
   "cell_type": "code",
   "execution_count": 75,
   "metadata": {},
   "outputs": [],
   "source": [
    "loader = DirectoryLoader('Data2', glob=\"**/*.pdf\")"
   ]
  },
  {
   "cell_type": "code",
   "execution_count": 8,
   "metadata": {},
   "outputs": [
    {
     "name": "stderr",
     "output_type": "stream",
     "text": [
      "incorrect startxref pointer(1)\n"
     ]
    }
   ],
   "source": [
    "from langchain_community.document_loaders import PyPDFLoader\n",
    "\n",
    "loader = PyPDFLoader(\"Data/[Data] Think Like a Data Scientist (2017).pdf\")\n",
    "pages = loader.load_and_split()"
   ]
  },
  {
   "cell_type": "code",
   "execution_count": 9,
   "metadata": {},
   "outputs": [],
   "source": [
    "# docs = loader.load()"
   ]
  },
  {
   "cell_type": "code",
   "execution_count": 10,
   "metadata": {},
   "outputs": [],
   "source": [
    "# pages"
   ]
  },
  {
   "cell_type": "code",
   "execution_count": 11,
   "metadata": {},
   "outputs": [
    {
     "data": {
      "text/plain": [
       "325"
      ]
     },
     "execution_count": 11,
     "metadata": {},
     "output_type": "execute_result"
    }
   ],
   "source": [
    "len(pages)"
   ]
  },
  {
   "cell_type": "code",
   "execution_count": 12,
   "metadata": {},
   "outputs": [],
   "source": [
    "text_splitter = RecursiveCharacterTextSplitter(chunk_size=1000, chunk_overlap=10)\n",
    "# text_chunks = text_splitter.split_documents(docs)\n",
    "text_chunks = text_splitter.split_documents(pages)"
   ]
  },
  {
   "cell_type": "code",
   "execution_count": 13,
   "metadata": {},
   "outputs": [
    {
     "data": {
      "text/plain": [
       "1077"
      ]
     },
     "execution_count": 13,
     "metadata": {},
     "output_type": "execute_result"
    }
   ],
   "source": [
    "len(text_chunks)"
   ]
  },
  {
   "cell_type": "code",
   "execution_count": 14,
   "metadata": {},
   "outputs": [],
   "source": [
    "# Clean up our Documents' content\n",
    "import re\n",
    "\n",
    "def clean_up_text(content: str) -> str:\n",
    "    \"\"\"\n",
    "    Remove unwanted characters and patterns in text input.\n",
    "\n",
    "    :param content: Text input.\n",
    "    \n",
    "    :return: Cleaned version of original text input.\n",
    "    \"\"\"\n",
    "\n",
    "    # Fix hyphenated words broken by newline\n",
    "    content = re.sub(r'(\\w+)-\\n(\\w+)', r'\\1\\2', content)\n",
    "\n",
    "    # Remove specific unwanted patterns and characters\n",
    "    unwanted_patterns = [\n",
    "        \"\\\\n\", \"  —\", \"——————————\", \"—————————\", \"—————\",\n",
    "        r'\\\\u[\\dA-Fa-f]{4}', r'\\uf075', r'\\uf0b7'\n",
    "    ]\n",
    "    for pattern in unwanted_patterns:\n",
    "        content = re.sub(pattern, \"\", content)\n",
    "\n",
    "    # Fix improperly spaced hyphenated words and normalize whitespace\n",
    "    content = re.sub(r'(\\w)\\s*-\\s*(\\w)', r'\\1-\\2', content)\n",
    "    content = re.sub(r'\\s+', ' ', content)\n",
    "\n",
    "    return content\n",
    "\n",
    "# Call function\n",
    "cleaned_docs = []\n",
    "for d in text_chunks: \n",
    "    cleaned_text = clean_up_text(d.page_content)\n",
    "    d.page_content = cleaned_text\n",
    "    cleaned_docs.append(d)"
   ]
  },
  {
   "cell_type": "code",
   "execution_count": null,
   "metadata": {},
   "outputs": [],
   "source": [
    "clean_up_text"
   ]
  },
  {
   "cell_type": "code",
   "execution_count": null,
   "metadata": {},
   "outputs": [],
   "source": []
  },
  {
   "cell_type": "code",
   "execution_count": 15,
   "metadata": {},
   "outputs": [
    {
     "data": {
      "text/plain": [
       "'Think Likea Data ScientistTACKLE THE DATA SCIENCE PROCESS STEP-BY-STEPBRIAN GODSEYMANNINGSHELTER ISLAND'"
      ]
     },
     "execution_count": 15,
     "metadata": {},
     "output_type": "execute_result"
    }
   ],
   "source": [
    "text_chunks[2].page_content"
   ]
  },
  {
   "cell_type": "code",
   "execution_count": 66,
   "metadata": {},
   "outputs": [
    {
     "data": {
      "text/plain": [
       "{'source': 'Data2\\\\[Data] Think Like a Data Scientist (2017).pdf', 'page': 0}"
      ]
     },
     "execution_count": 66,
     "metadata": {},
     "output_type": "execute_result"
    }
   ],
   "source": [
    "cleaned_docs[0].metadata"
   ]
  },
  {
   "cell_type": "markdown",
   "metadata": {},
   "source": [
    "### Configuring Gemini model and GeminiEmbedding"
   ]
  },
  {
   "cell_type": "code",
   "execution_count": 67,
   "metadata": {},
   "outputs": [],
   "source": [
    "from langchain_google_genai import GoogleGenerativeAIEmbeddings\n"
   ]
  },
  {
   "cell_type": "code",
   "execution_count": 68,
   "metadata": {},
   "outputs": [],
   "source": [
    "genai.configure(api_key=gemini_api_key)\n",
    "embeddings = GoogleGenerativeAIEmbeddings(model=\"models/embedding-001\")\n",
    "# Setting Tempreture to 0.3 for getting low risk results\n",
    "\n",
    "model = ChatGoogleGenerativeAI(model=\"gemini-1.0-pro-latest\",api_key=gemini_api_key,temperature=0.3)"
   ]
  },
  {
   "cell_type": "markdown",
   "metadata": {},
   "source": [
    "### Using FAISS as our vector database taking the index to save them locally"
   ]
  },
  {
   "cell_type": "code",
   "execution_count": 44,
   "metadata": {},
   "outputs": [],
   "source": [
    "vector_store = FAISS.from_documents(text_chunks, embedding=embeddings)\n",
    "vector_store.save_local(\"faiss_index\")"
   ]
  },
  {
   "cell_type": "code",
   "execution_count": 69,
   "metadata": {},
   "outputs": [],
   "source": [
    "# for 331 page pdf\n",
    "vector_store = FAISS.from_documents(text_chunks, embedding=embeddings)\n",
    "vector_store.save_local(\"faiss_index\")"
   ]
  },
  {
   "cell_type": "markdown",
   "metadata": {},
   "source": [
    "### Applying proper prompts to get best output"
   ]
  },
  {
   "cell_type": "code",
   "execution_count": 45,
   "metadata": {},
   "outputs": [
    {
     "data": {
      "text/plain": [
       "PromptTemplate(input_variables=['context', 'question'], template='\\nAnswer the question as detailed as possible from the provided context, make sure to provide all the details, if the answer is not in\\nprovided context just say, \"answer is not available in the context\", don\\'t provide the wrong answer\\n\\n\\nContext:\\n {context}?\\n\\nQuestion: \\n{question}\\n\\n\\nAnswer:\\n')"
      ]
     },
     "execution_count": 45,
     "metadata": {},
     "output_type": "execute_result"
    }
   ],
   "source": [
    "prompt_template = \"\"\"\n",
    "Answer the question as detailed as possible from the provided context, make sure to provide all the details, if the answer is not in\n",
    "provided context just say, \"answer is not available in the context\", don't provide the wrong answer\\n\\n\n",
    "Context:\\n {context}?\\n\n",
    "Question: \\n{question}\\n\n",
    "\n",
    "Answer:\n",
    "\"\"\"\n",
    "\n",
    "# model = ChatGoogleGenerativeAI(model=\"gemini-pro\",\n",
    "#                             temperature=0.3)\n",
    "\n",
    "prompt = PromptTemplate(template = prompt_template, input_variables = [\"context\", \"question\"])\n",
    "\n",
    "prompt\n",
    "# return chain"
   ]
  },
  {
   "cell_type": "code",
   "execution_count": 46,
   "metadata": {},
   "outputs": [
    {
     "data": {
      "text/plain": [
       "ChatPromptTemplate(input_variables=['context', 'question'], messages=[HumanMessagePromptTemplate(prompt=PromptTemplate(input_variables=['context', 'question'], template='\\nAnswer the question as detailed as possible from the provided context, make sure to provide all the details, if the answer is not in\\nprovided context just say, \"answer is not available in the context\", don\\'t provide the wrong answer\\n\\n\\nContext:\\n {context}?\\n\\nQuestion: \\n{question}\\n\\n\\nAnswer:\\n'))])"
      ]
     },
     "execution_count": 46,
     "metadata": {},
     "output_type": "execute_result"
    }
   ],
   "source": [
    "from langchain.prompts.chat import ChatPromptTemplate\n",
    "qa_prompt = ChatPromptTemplate.from_messages([(\"human\", prompt_template)])\n",
    "qa_prompt\n"
   ]
  },
  {
   "cell_type": "code",
   "execution_count": 47,
   "metadata": {},
   "outputs": [],
   "source": [
    "chain = load_qa_chain(llm=model, chain_type=\"stuff\", verbose=True, prompt=qa_prompt)\n"
   ]
  },
  {
   "cell_type": "code",
   "execution_count": 51,
   "metadata": {},
   "outputs": [],
   "source": [
    "user_question = \"Tell me about Employability Skills Matrix \""
   ]
  },
  {
   "cell_type": "code",
   "execution_count": 52,
   "metadata": {},
   "outputs": [],
   "source": [
    "new_db = FAISS.load_local(\"faiss_index\", embeddings,allow_dangerous_deserialization=True)\n",
    "docs = new_db.similarity_search(user_question)\n"
   ]
  },
  {
   "cell_type": "code",
   "execution_count": 53,
   "metadata": {},
   "outputs": [
    {
     "data": {
      "text/plain": [
       "Document(metadata={'source': 'Data2\\\\test.pdf'}, page_content='Employability An Employability Skills Matrix at the beginning of each chapter provides students with a visual guide to features that support the development of skills employers are looking for in today’s busi-ness graduates, helping students see the relevance of the course to their career goals from the very start of class.This matrix identifies which features and end-of-chapter material will help you develop specific skills employers are looking for in job candidates.Employability Skills Matrix (ESM)Myth or Science?An Ethical ChoicePoint/ CounterpointToward a Better WorldExperiential ExerciseEthical DilemmaCase Incident✓✓✓✓✓✓Critical Thinking & Creativity✓✓ ✓ ✓ ✓✓Communication✓ ✓ ✓Collaboration✓✓ ✓Self-Management✓✓✓Social Responsibility✓ ✓✓ ✓✓ ✓✓ ✓✓Leadership✓Career Management(Employability Skills Matrix for Chapter 2)21A01_ROBB0025_19_GE_FM.indd 21 A01_ROBB0025_19_GE_FM.indd 21')"
      ]
     },
     "execution_count": 53,
     "metadata": {},
     "output_type": "execute_result"
    }
   ],
   "source": [
    "docs[0]"
   ]
  },
  {
   "cell_type": "code",
   "execution_count": 54,
   "metadata": {},
   "outputs": [
    {
     "name": "stderr",
     "output_type": "stream",
     "text": [
      "e:\\projects\\Reseach Project - RAG\\Langchain_QA\\venv_RAG\\lib\\site-packages\\langchain_core\\_api\\deprecation.py:139: LangChainDeprecationWarning: The method `Chain.__call__` was deprecated in langchain 0.1.0 and will be removed in 0.3.0. Use invoke instead.\n",
      "  warn_deprecated(\n"
     ]
    },
    {
     "name": "stdout",
     "output_type": "stream",
     "text": [
      "\n",
      "\n",
      "\u001b[1m> Entering new StuffDocumentsChain chain...\u001b[0m\n",
      "\n",
      "\n",
      "\u001b[1m> Entering new LLMChain chain...\u001b[0m\n",
      "Prompt after formatting:\n",
      "\u001b[32;1m\u001b[1;3mHuman: \n",
      "Answer the question as detailed as possible from the provided context, make sure to provide all the details, if the answer is not in\n",
      "provided context just say, \"answer is not available in the context\", don't provide the wrong answer\n",
      "\n",
      "\n",
      "Context:\n",
      " Employability An Employability Skills Matrix at the beginning of each chapter provides students with a visual guide to features that support the development of skills employers are looking for in today’s busi-ness graduates, helping students see the relevance of the course to their career goals from the very start of class.This matrix identifies which features and end-of-chapter material will help you develop specific skills employers are looking for in job candidates.Employability Skills Matrix (ESM)Myth or Science?An Ethical ChoicePoint/ CounterpointToward a Better WorldExperiential ExerciseEthical DilemmaCase Incident✓✓✓✓✓✓Critical Thinking & Creativity✓✓ ✓ ✓ ✓✓Communication✓ ✓ ✓Collaboration✓✓ ✓Self-Management✓✓✓Social Responsibility✓ ✓✓ ✓✓ ✓✓ ✓✓Leadership✓Career Management(Employability Skills Matrix for Chapter 2)21A01_ROBB0025_19_GE_FM.indd 21 A01_ROBB0025_19_GE_FM.indd 21\n",
      "\n",
      "Each of the text chapters starts with what we refer to as the employability skills matrix (ESM). As you can see in the table below, this matrix links the seven employability skills that were just defined with unique features in each chapter, including Myth or Science?, An Ethical Choice, Point/Counterpoint, Toward a Better World, Experiential Exercise, Ethical Dilemma, and the Case Incident. Within these sections, you will be primed to think critically and creatively to consider special cases and concepts. You will also learn how to improve your self-management, collaboration, and communication skills by learning what you might do or say in these given situations to positively and effectively navigate the work world. You will be confronted with ethical dilemmas and opportunities in which you will consider the ethics of particular behaviors in the workplace and contemplate how organizations can contribute to the good of society. In many instances, you will take on the role of a manager\n",
      "\n",
      "Employability Skills Matrix (ESM)Myth or Science?An Ethical ChoicePoint/CounterpointToward a Better WorldExperiential ExerciseEthical DilemmaCase Incident✓ ✓✓✓✓ ✓ ✓✓ ✓ ✓ ✓ ✓✓ ✓ ✓ ✓Critical Thinking & Creativity✓ ✓ Self-Management ✓CommunicationCollaboration✓✓ ✓Social Responsibility✓✓Leadership✓✓✓Career ManagementM01_ROBB0025_19_GE_C01.indd 68 M01_ROBB0025_19_GE_C01.indd 6813/12/22 1:55 AM 13/12/22 1:55 AMWhat Is Organizational Behavior? CHAPTER 169Summary\n",
      "\n",
      "Employability Skills Matrix (ESM)Myth or Science?An Ethical ChoicePoint/ CounterpointToward a Better WorldExperiential ExerciseEthical DilemmaCase Incident✓✓✓✓✓✓Critical Thinking & Creativity✓✓ ✓ ✓ ✓✓Communication✓ ✓ ✓Collaboration✓✓ ✓Self-Management✓✓✓Social Responsibility✓ ✓✓ ✓✓ ✓✓ ✓✓Leadership✓Career ManagementA LACK OF DIVERSITY IN THE TECH INDUSTRYThe tech industry has been notorious for failing on the diversity andinclusion front. Apple, Facebook, Google, and Microsoft may be the biggest technology companies across the world, yet the diversity reports they have posted for the past five years consistently present the same picture, an industry dominated by White and Asian men.?\n",
      "\n",
      "Question: \n",
      "Tell me about Employability Skills Matrix \n",
      "\n",
      "\n",
      "Answer:\n",
      "\u001b[0m\n",
      "\n",
      "\u001b[1m> Finished chain.\u001b[0m\n",
      "\n",
      "\u001b[1m> Finished chain.\u001b[0m\n"
     ]
    }
   ],
   "source": [
    "response = chain(\n",
    "        {\"input_documents\":docs, \"question\": user_question}\n",
    "        , return_only_outputs=True)"
   ]
  },
  {
   "cell_type": "code",
   "execution_count": 55,
   "metadata": {},
   "outputs": [
    {
     "name": "stdout",
     "output_type": "stream",
     "text": [
      "The Employability Skills Matrix (ESM) is a visual guide that provides students with a roadmap to develop the skills employers are looking for in today's business graduates. It identifies which features and end-of-chapter material will help students develop specific skills employers are looking for in job candidates. The ESM includes seven employability skills: critical thinking and creativity, communication, collaboration, self-management, social responsibility, leadership, and career management. Each chapter of the text starts with an ESM that links these skills to unique features in the chapter, such as Myth or Science?, An Ethical Choice, Point/Counterpoint, Toward a Better World, Experiential Exercise, Ethical Dilemma, and the Case Incident. Within these sections, students are primed to think critically and creatively, improve their self-management, collaboration, and communication skills, and consider the ethics of particular behaviors in the workplace.\n"
     ]
    }
   ],
   "source": [
    "print(response[\"output_text\"])"
   ]
  },
  {
   "cell_type": "code",
   "execution_count": null,
   "metadata": {},
   "outputs": [],
   "source": []
  },
  {
   "cell_type": "code",
   "execution_count": null,
   "metadata": {},
   "outputs": [],
   "source": []
  },
  {
   "cell_type": "code",
   "execution_count": 42,
   "metadata": {},
   "outputs": [],
   "source": [
    "eval_questions = [\n",
    "    \"How many baby birds did the mother bird have?\",\n",
    "    \"What happened to the mother bird during the storm?\",\n",
    "    \"Where did the baby birds end up after the storm?\",\n",
    "    \"What happened to one of the baby birds near a cave?\",\n",
    "    \"Where did the other baby bird land?\",\n",
    "    \"Who came to the forest one day?\",\n",
    "    \"What did the king see under a tree near a cave?\",\n",
    "    \"What did the king hear from the big, brown bird?\",\n",
    "    \"Where did the king go after leaving the cave?\",\n",
    "    \"Who welcomed the king at the ashram?\",\n",
    "    \"What did the rishi say about the two birds?\",\n",
    "    \"What did the king tell the rishi about the birds?\",\n",
    "    \"What did the rishi say to the king about the birds?\",\n",
    "    \"What did the rishi compare the birds' behavior to?\",\n",
    "    \"Which moral best summarizes the story?\"\n",
    "]\n",
    "\n",
    "eval_answers = [\n",
    "    \"The mother bird had two baby birds.\",\n",
    "    \"The mother bird was killed by a heavy branch during the storm.\",\n",
    "    \"The baby birds ended up separated from each other after the storm.\",\n",
    "    \"One of the baby birds came down near a cave where a gang of robbers lived.\",\n",
    "    \"The other baby bird landed outside a rishi’s ashram a little distance away.\",\n",
    "    \"The king of the country came to the forest one day.\",\n",
    "    \"The king saw a big, brown bird under a tree near a cave.\",\n",
    "    \"The king heard the big, brown bird urging someone to take his jewels and horse quickly.\",\n",
    "    \"After leaving the cave, the king came to a clearing that looked like an ashram.\",\n",
    "    \"The king was welcomed at the ashram by a big, brown bird.\",\n",
    "    \"The rishi said that one bird had made friends with robbers while the other welcomed people to the ashram.\",\n",
    "    \"The king told the rishi the story of the two birds and their different behaviors.\",\n",
    "    \"The rishi said that one is known by the company one keeps.\",\n",
    "    \"The rishi compared the birds' behavior to the influence of companionship.\",\n",
    "    \"The moral 'One is known by the company one keeps' best summarizes the story.\"\n",
    "]\n"
   ]
  },
  {
   "cell_type": "code",
   "execution_count": 44,
   "metadata": {},
   "outputs": [],
   "source": [
    "examples = [\n",
    "    {\"query\": q, \"ground_truth\": [eval_answers[i]]}\n",
    "    for i, q in enumerate(eval_questions)\n",
    "]"
   ]
  },
  {
   "cell_type": "code",
   "execution_count": 45,
   "metadata": {},
   "outputs": [
    {
     "data": {
      "text/plain": [
       "[{'query': 'How many baby birds did the mother bird have?',\n",
       "  'ground_truth': ['The mother bird had two baby birds.']},\n",
       " {'query': 'What happened to the mother bird during the storm?',\n",
       "  'ground_truth': ['The mother bird was killed by a heavy branch during the storm.']},\n",
       " {'query': 'Where did the baby birds end up after the storm?',\n",
       "  'ground_truth': ['The baby birds ended up separated from each other after the storm.']},\n",
       " {'query': 'What happened to one of the baby birds near a cave?',\n",
       "  'ground_truth': ['One of the baby birds came down near a cave where a gang of robbers lived.']},\n",
       " {'query': 'Where did the other baby bird land?',\n",
       "  'ground_truth': ['The other baby bird landed outside a rishi’s ashram a little distance away.']},\n",
       " {'query': 'Who came to the forest one day?',\n",
       "  'ground_truth': ['The king of the country came to the forest one day.']},\n",
       " {'query': 'What did the king see under a tree near a cave?',\n",
       "  'ground_truth': ['The king saw a big, brown bird under a tree near a cave.']},\n",
       " {'query': 'What did the king hear from the big, brown bird?',\n",
       "  'ground_truth': ['The king heard the big, brown bird urging someone to take his jewels and horse quickly.']},\n",
       " {'query': 'Where did the king go after leaving the cave?',\n",
       "  'ground_truth': ['After leaving the cave, the king came to a clearing that looked like an ashram.']},\n",
       " {'query': 'Who welcomed the king at the ashram?',\n",
       "  'ground_truth': ['The king was welcomed at the ashram by a big, brown bird.']},\n",
       " {'query': 'What did the rishi say about the two birds?',\n",
       "  'ground_truth': ['The rishi said that one bird had made friends with robbers while the other welcomed people to the ashram.']},\n",
       " {'query': 'What did the king tell the rishi about the birds?',\n",
       "  'ground_truth': ['The king told the rishi the story of the two birds and their different behaviors.']},\n",
       " {'query': 'What did the rishi say to the king about the birds?',\n",
       "  'ground_truth': ['The rishi said that one is known by the company one keeps.']},\n",
       " {'query': \"What did the rishi compare the birds' behavior to?\",\n",
       "  'ground_truth': [\"The rishi compared the birds' behavior to the influence of companionship.\"]},\n",
       " {'query': 'Which moral best summarizes the story?',\n",
       "  'ground_truth': [\"The moral 'One is known by the company one keeps' best summarizes the story.\"]}]"
      ]
     },
     "execution_count": 45,
     "metadata": {},
     "output_type": "execute_result"
    }
   ],
   "source": [
    "examples"
   ]
  },
  {
   "cell_type": "code",
   "execution_count": 46,
   "metadata": {},
   "outputs": [],
   "source": [
    "user_question = eval_questions[5]"
   ]
  },
  {
   "cell_type": "code",
   "execution_count": 47,
   "metadata": {},
   "outputs": [
    {
     "data": {
      "text/plain": [
       "'Who came to the forest one day?'"
      ]
     },
     "execution_count": 47,
     "metadata": {},
     "output_type": "execute_result"
    }
   ],
   "source": [
    "user_question"
   ]
  },
  {
   "cell_type": "code",
   "execution_count": 48,
   "metadata": {},
   "outputs": [
    {
     "data": {
      "text/plain": [
       "[Document(page_content='would the crocodile tell his wife?Rationalised 2023-24', metadata={'source': 'Data\\\\fepw105.pdf'}),\n",
       " Document(page_content='Rationalised 2023-24', metadata={'source': 'Data\\\\fepw106.pdf'}),\n",
       " Document(page_content='Are you interested in music? Do you like classical music? Name a few distinguished Indian musicians.Rationalised 2023-24', metadata={'source': 'Data\\\\fepw104.pdf'}),\n",
       " Document(page_content='Days passed and the baby birds became big birds. One day, the king of the country came to the forest to hunt. He saw a deer and rode after it. It ran deep into the forest followed by the king. Soon the king lost his way and didn’t know where he was.He rode on for a long time till he came to the other side of the forest. Very tired by now, he got off his horse and sat down under a tree that stood near a cave. Suddenly he heard a voice cry out, “Quick! Hurry up! There’s someone under the tree. Come and take his jewels and his horse. Hurry, or else he’ll slip away.” The king was amazed. He looked up and saw a big, brown bird on the tree under which he was sitting. He also heard faint noises issuing from the cave. He quickly got on to his horse and rode away as fast as he could.The king was amazed to hear a similar voice again. • He came to know the birds’ true story. • He met the rishi who explained the behaviour of each bird.', metadata={'source': 'Data\\\\fepw101.pdf'})]"
      ]
     },
     "execution_count": 48,
     "metadata": {},
     "output_type": "execute_result"
    }
   ],
   "source": [
    "new_db = FAISS.load_local(\"faiss_index\",embeddings,allow_dangerous_deserialization=True)\n",
    "docs = new_db.similarity_search(user_question)\n",
    "\n",
    "docs"
   ]
  },
  {
   "cell_type": "code",
   "execution_count": 49,
   "metadata": {},
   "outputs": [
    {
     "name": "stdout",
     "output_type": "stream",
     "text": [
      "\n",
      "\n",
      "\u001b[1m> Entering new StuffDocumentsChain chain...\u001b[0m\n",
      "\n",
      "\n",
      "\u001b[1m> Entering new LLMChain chain...\u001b[0m\n",
      "Prompt after formatting:\n",
      "\u001b[32;1m\u001b[1;3mHuman: \n",
      "Answer the question as detailed as possible from the provided context, make sure to provide all the details, if the answer is not in\n",
      "provided context just say, \"answer is not available in the context\", don't provide the wrong answer\n",
      "\n",
      "\n",
      "Context:\n",
      " would the crocodile tell his wife?Rationalised 2023-24\n",
      "\n",
      "Rationalised 2023-24\n",
      "\n",
      "Are you interested in music? Do you like classical music? Name a few distinguished Indian musicians.Rationalised 2023-24\n",
      "\n",
      "Days passed and the baby birds became big birds. One day, the king of the country came to the forest to hunt. He saw a deer and rode after it. It ran deep into the forest followed by the king. Soon the king lost his way and didn’t know where he was.He rode on for a long time till he came to the other side of the forest. Very tired by now, he got off his horse and sat down under a tree that stood near a cave. Suddenly he heard a voice cry out, “Quick! Hurry up! There’s someone under the tree. Come and take his jewels and his horse. Hurry, or else he’ll slip away.” The king was amazed. He looked up and saw a big, brown bird on the tree under which he was sitting. He also heard faint noises issuing from the cave. He quickly got on to his horse and rode away as fast as he could.The king was amazed to hear a similar voice again. • He came to know the birds’ true story. • He met the rishi who explained the behaviour of each bird.?\n",
      "\n",
      "Question: \n",
      "Who came to the forest one day?\n",
      "\n",
      "\n",
      "Answer:\n",
      "\u001b[0m\n",
      "\n",
      "\u001b[1m> Finished chain.\u001b[0m\n",
      "\n",
      "\u001b[1m> Finished chain.\u001b[0m\n"
     ]
    }
   ],
   "source": [
    "response = chain(\n",
    "        {\"input_documents\":docs, \"question\": user_question})"
   ]
  },
  {
   "cell_type": "code",
   "execution_count": 50,
   "metadata": {},
   "outputs": [
    {
     "data": {
      "text/plain": [
       "'would the crocodile tell his wife?Rationalised 2023-24'"
      ]
     },
     "execution_count": 50,
     "metadata": {},
     "output_type": "execute_result"
    }
   ],
   "source": [
    "response[\"input_documents\"][0].page_content"
   ]
  },
  {
   "cell_type": "code",
   "execution_count": 51,
   "metadata": {},
   "outputs": [
    {
     "name": "stdout",
     "output_type": "stream",
     "text": [
      "## Who Came to the Forest? \n",
      "\n",
      "**The king of the country** came to the forest one day to hunt. \n",
      "\n"
     ]
    }
   ],
   "source": [
    "print(response[\"output_text\"])"
   ]
  },
  {
   "cell_type": "code",
   "execution_count": 52,
   "metadata": {},
   "outputs": [],
   "source": [
    "\n",
    "import nest_asyncio\n",
    "\n",
    "nest_asyncio.apply()\n"
   ]
  },
  {
   "cell_type": "code",
   "execution_count": 53,
   "metadata": {},
   "outputs": [
    {
     "data": {
      "text/plain": [
       "{'input_documents': [Document(page_content='would the crocodile tell his wife?Rationalised 2023-24', metadata={'source': 'Data\\\\fepw105.pdf'}),\n",
       "  Document(page_content='Rationalised 2023-24', metadata={'source': 'Data\\\\fepw106.pdf'}),\n",
       "  Document(page_content='Are you interested in music? Do you like classical music? Name a few distinguished Indian musicians.Rationalised 2023-24', metadata={'source': 'Data\\\\fepw104.pdf'}),\n",
       "  Document(page_content='Days passed and the baby birds became big birds. One day, the king of the country came to the forest to hunt. He saw a deer and rode after it. It ran deep into the forest followed by the king. Soon the king lost his way and didn’t know where he was.He rode on for a long time till he came to the other side of the forest. Very tired by now, he got off his horse and sat down under a tree that stood near a cave. Suddenly he heard a voice cry out, “Quick! Hurry up! There’s someone under the tree. Come and take his jewels and his horse. Hurry, or else he’ll slip away.” The king was amazed. He looked up and saw a big, brown bird on the tree under which he was sitting. He also heard faint noises issuing from the cave. He quickly got on to his horse and rode away as fast as he could.The king was amazed to hear a similar voice again. • He came to know the birds’ true story. • He met the rishi who explained the behaviour of each bird.', metadata={'source': 'Data\\\\fepw101.pdf'})],\n",
       " 'question': 'Who came to the forest one day?',\n",
       " 'output_text': '## Who Came to the Forest? \\n\\n**The king of the country** came to the forest one day to hunt. \\n'}"
      ]
     },
     "execution_count": 53,
     "metadata": {},
     "output_type": "execute_result"
    }
   ],
   "source": [
    "response"
   ]
  },
  {
   "cell_type": "markdown",
   "metadata": {},
   "source": [
    "## RAG model Evaluation using RAGAS; Currently RAGAS is not supporting Gemini, but I do hope it would be available in future. Regardless of that, Integrating Open AI with RAGAS won't be a problem if we already have access to it's api key"
   ]
  },
  {
   "cell_type": "code",
   "execution_count": 55,
   "metadata": {},
   "outputs": [],
   "source": [
    "from ragas.langchain.evalchain  import RagasEvaluatorChain\n",
    "from ragas.metrics import (\n",
    "    faithfulness,\n",
    "    answer_relevancy,\n",
    "    context_precision,\n",
    "    context_recall,\n",
    ")\n",
    "\n",
    "# create evaluation chains\n",
    "# faithfulness_chain = RagasEvaluatorChain(metric=faithfulness)\n",
    "# answer_rel_chain = RagasEvaluatorChain(metric=answer_relevancy)\n",
    "# context_rel_chain = RagasEvaluatorChain(metric=context_precision)\n",
    "# context_recall_chain = RagasEvaluatorChain(metric=context_recall)"
   ]
  },
  {
   "cell_type": "code",
   "execution_count": 56,
   "metadata": {},
   "outputs": [],
   "source": [
    "import pandas as pd"
   ]
  },
  {
   "cell_type": "code",
   "execution_count": 57,
   "metadata": {},
   "outputs": [
    {
     "name": "stdout",
     "output_type": "stream",
     "text": [
      "                                             question  \\\n",
      "0       How many baby birds did the mother bird have?   \n",
      "1   What happened to the mother bird during the st...   \n",
      "2    Where did the baby birds end up after the storm?   \n",
      "3   What happened to one of the baby birds near a ...   \n",
      "4                 Where did the other baby bird land?   \n",
      "5                     Who came to the forest one day?   \n",
      "6     What did the king see under a tree near a cave?   \n",
      "7    What did the king hear from the big, brown bird?   \n",
      "8       Where did the king go after leaving the cave?   \n",
      "9                Who welcomed the king at the ashram?   \n",
      "10        What did the rishi say about the two birds?   \n",
      "11  What did the king tell the rishi about the birds?   \n",
      "12  What did the rishi say to the king about the b...   \n",
      "13  What did the rishi compare the birds' behavior...   \n",
      "14             Which moral best summarizes the story?   \n",
      "\n",
      "                                         ground_truth  \n",
      "0                 The mother bird had two baby birds.  \n",
      "1   The mother bird was killed by a heavy branch d...  \n",
      "2   The baby birds ended up separated from each ot...  \n",
      "3   One of the baby birds came down near a cave wh...  \n",
      "4   The other baby bird landed outside a rishi’s a...  \n",
      "5   The king of the country came to the forest one...  \n",
      "6   The king saw a big, brown bird under a tree ne...  \n",
      "7   The king heard the big, brown bird urging some...  \n",
      "8   After leaving the cave, the king came to a cle...  \n",
      "9   The king was welcomed at the ashram by a big, ...  \n",
      "10  The rishi said that one bird had made friends ...  \n",
      "11  The king told the rishi the story of the two b...  \n",
      "12  The rishi said that one is known by the compan...  \n",
      "13  The rishi compared the birds' behavior to the ...  \n",
      "14  The moral 'One is known by the company one kee...  \n"
     ]
    }
   ],
   "source": [
    "# Create a DataFrame\n",
    "test_df = pd.DataFrame({\n",
    "    'question': eval_questions,\n",
    "    'ground_truth': eval_answers\n",
    "})\n",
    "\n",
    "# Print the DataFrame\n",
    "print(test_df)"
   ]
  },
  {
   "cell_type": "code",
   "execution_count": 58,
   "metadata": {},
   "outputs": [],
   "source": [
    "test_questions = test_df[\"question\"].values.tolist()\n",
    "test_groundtruths = test_df[\"ground_truth\"].values.tolist()"
   ]
  },
  {
   "cell_type": "code",
   "execution_count": 59,
   "metadata": {},
   "outputs": [],
   "source": [
    "test_questions = test_questions[:2]\n",
    "test_groundtruths = test_groundtruths[:2]"
   ]
  },
  {
   "cell_type": "code",
   "execution_count": 60,
   "metadata": {},
   "outputs": [
    {
     "data": {
      "text/plain": [
       "['How many baby birds did the mother bird have?',\n",
       " 'What happened to the mother bird during the storm?']"
      ]
     },
     "execution_count": 60,
     "metadata": {},
     "output_type": "execute_result"
    }
   ],
   "source": [
    "test_questions"
   ]
  },
  {
   "cell_type": "code",
   "execution_count": 61,
   "metadata": {},
   "outputs": [
    {
     "name": "stdout",
     "output_type": "stream",
     "text": [
      "\n",
      "\n",
      "\u001b[1m> Entering new StuffDocumentsChain chain...\u001b[0m\n",
      "\n",
      "\n",
      "\u001b[1m> Entering new LLMChain chain...\u001b[0m\n",
      "Prompt after formatting:\n",
      "\u001b[32;1m\u001b[1;3mHuman: \n",
      "Answer the question as detailed as possible from the provided context, make sure to provide all the details, if the answer is not in\n",
      "provided context just say, \"answer is not available in the context\", don't provide the wrong answer\n",
      "\n",
      "\n",
      "Context:\n",
      " would the crocodile tell his wife?Rationalised 2023-24\n",
      "\n",
      "Rationalised 2023-24\n",
      "\n",
      "Are you interested in music? Do you like classical music? Name a few distinguished Indian musicians.Rationalised 2023-24\n",
      "\n",
      "Days passed and the baby birds became big birds. One day, the king of the country came to the forest to hunt. He saw a deer and rode after it. It ran deep into the forest followed by the king. Soon the king lost his way and didn’t know where he was.He rode on for a long time till he came to the other side of the forest. Very tired by now, he got off his horse and sat down under a tree that stood near a cave. Suddenly he heard a voice cry out, “Quick! Hurry up! There’s someone under the tree. Come and take his jewels and his horse. Hurry, or else he’ll slip away.” The king was amazed. He looked up and saw a big, brown bird on the tree under which he was sitting. He also heard faint noises issuing from the cave. He quickly got on to his horse and rode away as fast as he could.The king was amazed to hear a similar voice again. • He came to know the birds’ true story. • He met the rishi who explained the behaviour of each bird.?\n",
      "\n",
      "Question: \n",
      "How many baby birds did the mother bird have?\n",
      "\n",
      "\n",
      "Answer:\n",
      "\u001b[0m\n",
      "\n",
      "\u001b[1m> Finished chain.\u001b[0m\n",
      "\n",
      "\u001b[1m> Finished chain.\u001b[0m\n",
      "\n",
      "\n",
      "\u001b[1m> Entering new StuffDocumentsChain chain...\u001b[0m\n",
      "\n",
      "\n",
      "\u001b[1m> Entering new LLMChain chain...\u001b[0m\n",
      "Prompt after formatting:\n",
      "\u001b[32;1m\u001b[1;3mHuman: \n",
      "Answer the question as detailed as possible from the provided context, make sure to provide all the details, if the answer is not in\n",
      "provided context just say, \"answer is not available in the context\", don't provide the wrong answer\n",
      "\n",
      "\n",
      "Context:\n",
      " would the crocodile tell his wife?Rationalised 2023-24\n",
      "\n",
      "Rationalised 2023-24\n",
      "\n",
      "Are you interested in music? Do you like classical music? Name a few distinguished Indian musicians.Rationalised 2023-24\n",
      "\n",
      "Days passed and the baby birds became big birds. One day, the king of the country came to the forest to hunt. He saw a deer and rode after it. It ran deep into the forest followed by the king. Soon the king lost his way and didn’t know where he was.He rode on for a long time till he came to the other side of the forest. Very tired by now, he got off his horse and sat down under a tree that stood near a cave. Suddenly he heard a voice cry out, “Quick! Hurry up! There’s someone under the tree. Come and take his jewels and his horse. Hurry, or else he’ll slip away.” The king was amazed. He looked up and saw a big, brown bird on the tree under which he was sitting. He also heard faint noises issuing from the cave. He quickly got on to his horse and rode away as fast as he could.The king was amazed to hear a similar voice again. • He came to know the birds’ true story. • He met the rishi who explained the behaviour of each bird.?\n",
      "\n",
      "Question: \n",
      "What happened to the mother bird during the storm?\n",
      "\n",
      "\n",
      "Answer:\n",
      "\u001b[0m\n",
      "\n",
      "\u001b[1m> Finished chain.\u001b[0m\n",
      "\n",
      "\u001b[1m> Finished chain.\u001b[0m\n"
     ]
    }
   ],
   "source": [
    "answers = []\n",
    "contexts = []\n",
    "\n",
    "for question in test_questions:\n",
    "      new_db = FAISS.load_local(\"faiss_index\",embeddings,allow_dangerous_deserialization=True)\n",
    "      docs = new_db.similarity_search(user_question)\n",
    "\n",
    "      response = chain(\n",
    "            {\"input_documents\":docs, \"question\": question})\n",
    "      # response = retrieval_augmented_qa_chain.invoke({\"question\" : question})\n",
    "      answers.append(response[\"output_text\"])\n",
    "      contexts.append([context.page_content for context in response[\"input_documents\"]])"
   ]
  },
  {
   "cell_type": "code",
   "execution_count": 62,
   "metadata": {},
   "outputs": [
    {
     "data": {
      "text/plain": [
       "['The mother bird had two baby birds.',\n",
       " 'The mother bird was killed by a heavy branch during the storm.']"
      ]
     },
     "execution_count": 62,
     "metadata": {},
     "output_type": "execute_result"
    }
   ],
   "source": [
    "test_groundtruths"
   ]
  },
  {
   "cell_type": "code",
   "execution_count": 67,
   "metadata": {},
   "outputs": [],
   "source": [
    "from ragas import evaluate\n",
    "from ragas.metrics import (\n",
    "    faithfulness,\n",
    "    answer_relevancy,\n",
    "    answer_correctness,\n",
    "    context_recall,\n",
    "    context_precision,\n",
    ")\n",
    "\n",
    "metrics = [\n",
    "    faithfulness,\n",
    "    answer_relevancy,\n",
    "    context_recall,\n",
    "    context_precision,\n",
    "    answer_correctness,\n",
    "]"
   ]
  },
  {
   "cell_type": "code",
   "execution_count": 80,
   "metadata": {},
   "outputs": [],
   "source": [
    "from datasets import Dataset\n",
    "\n",
    "response_dataset = Dataset.from_dict({\n",
    "    \"question\" : test_questions,\n",
    "    \"answer\" : answers,\n",
    "    \"contexts\" : contexts,\n",
    "    \"ground_truths\" : test_groundtruths\n",
    "})"
   ]
  },
  {
   "cell_type": "code",
   "execution_count": 88,
   "metadata": {},
   "outputs": [],
   "source": [
    "from datasets import Dataset, Features, Sequence, Value\n",
    "\n",
    "# Convert each ground truth string into a list containing that string\n",
    "test_groundtruths_list = [[gt] for gt in test_groundtruths]\n",
    "\n",
    "# Define the features with the correct type for \"ground_truths\"\n",
    "features = Features({\n",
    "    \"question\": Value(\"string\"),\n",
    "    \"answer\": Value(\"string\"),\n",
    "    \"contexts\": Value(\"string\"),\n",
    "    \"ground_truths\": Sequence(Sequence(Value(\"string\")))\n",
    "})\n",
    "\n",
    "# Create the dataset\n",
    "response_dataset = Dataset.from_dict({\n",
    "    \"question\": test_questions,\n",
    "    \"answer\": answers,\n",
    "    \"contexts\": contexts,\n",
    "    \"ground_truths\": test_groundtruths_list\n",
    "})\n",
    "\n",
    "# Now, you should be able to use the dataset without encountering the ValueError\n"
   ]
  },
  {
   "cell_type": "code",
   "execution_count": 89,
   "metadata": {},
   "outputs": [
    {
     "data": {
      "text/plain": [
       "{'question': 'How many baby birds did the mother bird have?',\n",
       " 'answer': '## Analyzing the Context for Baby Bird Count:\\n\\nThe provided text describes a story involving a king, a deer, and birds but **does not specify the number of baby birds the mother bird had**. Therefore, based on the context provided, the answer is: \\n\\n**Answer is not available in the context** \\n',\n",
       " 'contexts': ['would the crocodile tell his wife?Rationalised 2023-24',\n",
       "  'Rationalised 2023-24',\n",
       "  'Are you interested in music? Do you like classical music? Name a few distinguished Indian musicians.Rationalised 2023-24',\n",
       "  'Days passed and the baby birds became big birds. One day, the king of the country came to the forest to hunt. He saw a deer and rode after it. It ran deep into the forest followed by the king. Soon the king lost his way and didn’t know where he was.He rode on for a long time till he came to the other side of the forest. Very tired by now, he got off his horse and sat down under a tree that stood near a cave. Suddenly he heard a voice cry out, “Quick! Hurry up! There’s someone under the tree. Come and take his jewels and his horse. Hurry, or else he’ll slip away.” The king was amazed. He looked up and saw a big, brown bird on the tree under which he was sitting. He also heard faint noises issuing from the cave. He quickly got on to his horse and rode away as fast as he could.The king was amazed to hear a similar voice again. • He came to know the birds’ true story. • He met the rishi who explained the behaviour of each bird.'],\n",
       " 'ground_truths': ['The mother bird had two baby birds.']}"
      ]
     },
     "execution_count": 89,
     "metadata": {},
     "output_type": "execute_result"
    }
   ],
   "source": [
    "response_dataset[0]"
   ]
  },
  {
   "cell_type": "code",
   "execution_count": 90,
   "metadata": {},
   "outputs": [
    {
     "data": {
      "text/plain": [
       "{'question': 'How many baby birds did the mother bird have?',\n",
       " 'answer': '## Analyzing the Context for Baby Bird Count:\\n\\nThe provided text describes a story involving a king, a deer, and birds but **does not specify the number of baby birds the mother bird had**. Therefore, based on the context provided, the answer is: \\n\\n**Answer is not available in the context** \\n',\n",
       " 'contexts': ['would the crocodile tell his wife?Rationalised 2023-24',\n",
       "  'Rationalised 2023-24',\n",
       "  'Are you interested in music? Do you like classical music? Name a few distinguished Indian musicians.Rationalised 2023-24',\n",
       "  'Days passed and the baby birds became big birds. One day, the king of the country came to the forest to hunt. He saw a deer and rode after it. It ran deep into the forest followed by the king. Soon the king lost his way and didn’t know where he was.He rode on for a long time till he came to the other side of the forest. Very tired by now, he got off his horse and sat down under a tree that stood near a cave. Suddenly he heard a voice cry out, “Quick! Hurry up! There’s someone under the tree. Come and take his jewels and his horse. Hurry, or else he’ll slip away.” The king was amazed. He looked up and saw a big, brown bird on the tree under which he was sitting. He also heard faint noises issuing from the cave. He quickly got on to his horse and rode away as fast as he could.The king was amazed to hear a similar voice again. • He came to know the birds’ true story. • He met the rishi who explained the behaviour of each bird.'],\n",
       " 'ground_truths': ['The mother bird had two baby birds.']}"
      ]
     },
     "execution_count": 90,
     "metadata": {},
     "output_type": "execute_result"
    }
   ],
   "source": [
    "response_dataset[0]"
   ]
  },
  {
   "cell_type": "code",
   "execution_count": null,
   "metadata": {},
   "outputs": [],
   "source": [
    "\n",
    "advanced_retrieval_results = evaluate(response_dataset, metrics)"
   ]
  }
 ],
 "metadata": {
  "kernelspec": {
   "display_name": "Python 3",
   "language": "python",
   "name": "python3"
  },
  "language_info": {
   "codemirror_mode": {
    "name": "ipython",
    "version": 3
   },
   "file_extension": ".py",
   "mimetype": "text/x-python",
   "name": "python",
   "nbconvert_exporter": "python",
   "pygments_lexer": "ipython3",
   "version": "3.9.19"
  }
 },
 "nbformat": 4,
 "nbformat_minor": 2
}
